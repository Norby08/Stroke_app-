{
 "cells": [
  {
   "cell_type": "code",
   "execution_count": 8,
   "metadata": {},
   "outputs": [],
   "source": [
    "import streamlit as st \n",
    "import pandas as pd \n",
    "import numpy as np\n",
    "from sklearn.model_selection import train_test_split #This just creates a new dataset \n",
    "from sklearn.preprocessing import MinMaxScaler\n",
    "\n",
    "#Web scraping \n",
    "import requests \n",
    "import urllib.request\n",
    "from bs4 import BeautifulSoup \n",
    "\n",
    "from sklearn.ensemble import RandomForestClassifier\n",
    "from sklearn.linear_model import LogisticRegression\n",
    "from sklearn.ensemble import AdaBoostClassifier\n",
    "from sklearn.neighbors import KNeighborsClassifier"
   ]
  },
  {
   "cell_type": "code",
   "execution_count": 3,
   "metadata": {},
   "outputs": [],
   "source": [
    "st.write(\"\"\"\n",
    "# Stroke predicton as web\n",
    "\"\"\")"
   ]
  },
  {
   "cell_type": "code",
   "execution_count": 9,
   "metadata": {},
   "outputs": [],
   "source": [
    "url = \"https://github.com/Norby08/Stroke_app-/blob/main/Model.csv\"\n",
    "r = requests.get(url)\n",
    "soup = BeautifulSoup(r.text, 'html.parser')\n",
    "tb = soup.find('table', class_ = 'js-csv-data csv-data js-file-line-container')\n",
    "columns = tb.find(\"thead\").find_all('th') #All the column names are in \"th\"\n",
    "columns_names = [c.string for c in columns]\n",
    "rows = tb.find(\"tbody\").find_all(\"tr\") #Get all the table rows \n",
    "\n",
    "table_rows = rows \n",
    "l = []\n",
    "for tr in table_rows:\n",
    "    td = tr.find_all('td')\n",
    "    row = [str(tr.string).strip() for tr in td]\n",
    "    l.append(row)\n",
    "    \n",
    "for i in l: #This removes the unnecassay columns \n",
    "    del i[0] \n",
    "    \n",
    "df = pd.DataFrame(l, columns = columns_names)\n",
    "df.drop(df.columns[[0]],axis = 1, inplace = True)\n",
    "\n",
    "model = df"
   ]
  },
  {
   "cell_type": "code",
   "execution_count": 3,
   "metadata": {},
   "outputs": [],
   "source": [
    "#model = pd.read_csv(r'C:\\Users\\MATILYA\\Documents\\Self\\ML\\Kaggle\\Headache\\Model.csv')"
   ]
  },
  {
   "cell_type": "code",
   "execution_count": 5,
   "metadata": {},
   "outputs": [],
   "source": [
    "X = model.loc[:,['gender','age','hypertension','heart_disease','avg_glucose_level','smoking_status','ever_married_Yes',\n",
    "                'work_type_Never_worked','work_type_Private','work_type_Self-employed','work_type_children','Residence_type_Urban']]\n",
    "y = model[['stroke']]"
   ]
  },
  {
   "cell_type": "code",
   "execution_count": 17,
   "metadata": {},
   "outputs": [],
   "source": [
    "#check = scaler.fit_transform(X)"
   ]
  },
  {
   "cell_type": "code",
   "execution_count": 19,
   "metadata": {},
   "outputs": [
    {
     "data": {
      "text/html": [
       "<div>\n",
       "<style scoped>\n",
       "    .dataframe tbody tr th:only-of-type {\n",
       "        vertical-align: middle;\n",
       "    }\n",
       "\n",
       "    .dataframe tbody tr th {\n",
       "        vertical-align: top;\n",
       "    }\n",
       "\n",
       "    .dataframe thead th {\n",
       "        text-align: right;\n",
       "    }\n",
       "</style>\n",
       "<table border=\"1\" class=\"dataframe\">\n",
       "  <thead>\n",
       "    <tr style=\"text-align: right;\">\n",
       "      <th></th>\n",
       "      <th>0</th>\n",
       "      <th>1</th>\n",
       "      <th>2</th>\n",
       "      <th>3</th>\n",
       "      <th>4</th>\n",
       "      <th>5</th>\n",
       "      <th>6</th>\n",
       "      <th>7</th>\n",
       "      <th>8</th>\n",
       "      <th>9</th>\n",
       "      <th>10</th>\n",
       "      <th>11</th>\n",
       "    </tr>\n",
       "  </thead>\n",
       "  <tbody>\n",
       "    <tr>\n",
       "      <td>0</td>\n",
       "      <td>0.5</td>\n",
       "      <td>0.816895</td>\n",
       "      <td>0.0</td>\n",
       "      <td>1.0</td>\n",
       "      <td>0.801265</td>\n",
       "      <td>0.666667</td>\n",
       "      <td>1.0</td>\n",
       "      <td>0.0</td>\n",
       "      <td>1.0</td>\n",
       "      <td>0.0</td>\n",
       "      <td>0.0</td>\n",
       "      <td>1.0</td>\n",
       "    </tr>\n",
       "    <tr>\n",
       "      <td>1</td>\n",
       "      <td>0.0</td>\n",
       "      <td>0.743652</td>\n",
       "      <td>0.0</td>\n",
       "      <td>0.0</td>\n",
       "      <td>0.679023</td>\n",
       "      <td>0.333333</td>\n",
       "      <td>1.0</td>\n",
       "      <td>0.0</td>\n",
       "      <td>0.0</td>\n",
       "      <td>1.0</td>\n",
       "      <td>0.0</td>\n",
       "      <td>0.0</td>\n",
       "    </tr>\n",
       "    <tr>\n",
       "      <td>2</td>\n",
       "      <td>0.5</td>\n",
       "      <td>0.975586</td>\n",
       "      <td>0.0</td>\n",
       "      <td>1.0</td>\n",
       "      <td>0.234512</td>\n",
       "      <td>0.333333</td>\n",
       "      <td>1.0</td>\n",
       "      <td>0.0</td>\n",
       "      <td>1.0</td>\n",
       "      <td>0.0</td>\n",
       "      <td>0.0</td>\n",
       "      <td>0.0</td>\n",
       "    </tr>\n",
       "    <tr>\n",
       "      <td>3</td>\n",
       "      <td>0.0</td>\n",
       "      <td>0.597168</td>\n",
       "      <td>0.0</td>\n",
       "      <td>0.0</td>\n",
       "      <td>0.536008</td>\n",
       "      <td>1.000000</td>\n",
       "      <td>1.0</td>\n",
       "      <td>0.0</td>\n",
       "      <td>1.0</td>\n",
       "      <td>0.0</td>\n",
       "      <td>0.0</td>\n",
       "      <td>1.0</td>\n",
       "    </tr>\n",
       "    <tr>\n",
       "      <td>4</td>\n",
       "      <td>0.0</td>\n",
       "      <td>0.963379</td>\n",
       "      <td>1.0</td>\n",
       "      <td>0.0</td>\n",
       "      <td>0.549349</td>\n",
       "      <td>0.333333</td>\n",
       "      <td>1.0</td>\n",
       "      <td>0.0</td>\n",
       "      <td>0.0</td>\n",
       "      <td>1.0</td>\n",
       "      <td>0.0</td>\n",
       "      <td>0.0</td>\n",
       "    </tr>\n",
       "    <tr>\n",
       "      <td>...</td>\n",
       "      <td>...</td>\n",
       "      <td>...</td>\n",
       "      <td>...</td>\n",
       "      <td>...</td>\n",
       "      <td>...</td>\n",
       "      <td>...</td>\n",
       "      <td>...</td>\n",
       "      <td>...</td>\n",
       "      <td>...</td>\n",
       "      <td>...</td>\n",
       "      <td>...</td>\n",
       "      <td>...</td>\n",
       "    </tr>\n",
       "    <tr>\n",
       "      <td>5105</td>\n",
       "      <td>0.0</td>\n",
       "      <td>0.975586</td>\n",
       "      <td>1.0</td>\n",
       "      <td>0.0</td>\n",
       "      <td>0.132167</td>\n",
       "      <td>0.333333</td>\n",
       "      <td>1.0</td>\n",
       "      <td>0.0</td>\n",
       "      <td>1.0</td>\n",
       "      <td>0.0</td>\n",
       "      <td>0.0</td>\n",
       "      <td>1.0</td>\n",
       "    </tr>\n",
       "    <tr>\n",
       "      <td>5106</td>\n",
       "      <td>0.0</td>\n",
       "      <td>0.987793</td>\n",
       "      <td>0.0</td>\n",
       "      <td>0.0</td>\n",
       "      <td>0.323516</td>\n",
       "      <td>0.333333</td>\n",
       "      <td>1.0</td>\n",
       "      <td>0.0</td>\n",
       "      <td>0.0</td>\n",
       "      <td>1.0</td>\n",
       "      <td>0.0</td>\n",
       "      <td>1.0</td>\n",
       "    </tr>\n",
       "    <tr>\n",
       "      <td>5107</td>\n",
       "      <td>0.0</td>\n",
       "      <td>0.426270</td>\n",
       "      <td>0.0</td>\n",
       "      <td>0.0</td>\n",
       "      <td>0.128658</td>\n",
       "      <td>0.333333</td>\n",
       "      <td>1.0</td>\n",
       "      <td>0.0</td>\n",
       "      <td>0.0</td>\n",
       "      <td>1.0</td>\n",
       "      <td>0.0</td>\n",
       "      <td>0.0</td>\n",
       "    </tr>\n",
       "    <tr>\n",
       "      <td>5108</td>\n",
       "      <td>0.5</td>\n",
       "      <td>0.621582</td>\n",
       "      <td>0.0</td>\n",
       "      <td>0.0</td>\n",
       "      <td>0.513203</td>\n",
       "      <td>0.666667</td>\n",
       "      <td>1.0</td>\n",
       "      <td>0.0</td>\n",
       "      <td>1.0</td>\n",
       "      <td>0.0</td>\n",
       "      <td>0.0</td>\n",
       "      <td>0.0</td>\n",
       "    </tr>\n",
       "    <tr>\n",
       "      <td>5109</td>\n",
       "      <td>0.0</td>\n",
       "      <td>0.536133</td>\n",
       "      <td>0.0</td>\n",
       "      <td>0.0</td>\n",
       "      <td>0.139230</td>\n",
       "      <td>0.000000</td>\n",
       "      <td>1.0</td>\n",
       "      <td>0.0</td>\n",
       "      <td>0.0</td>\n",
       "      <td>0.0</td>\n",
       "      <td>0.0</td>\n",
       "      <td>1.0</td>\n",
       "    </tr>\n",
       "  </tbody>\n",
       "</table>\n",
       "<p>5110 rows × 12 columns</p>\n",
       "</div>"
      ],
      "text/plain": [
       "        0         1    2    3         4         5    6    7    8    9   10  \\\n",
       "0     0.5  0.816895  0.0  1.0  0.801265  0.666667  1.0  0.0  1.0  0.0  0.0   \n",
       "1     0.0  0.743652  0.0  0.0  0.679023  0.333333  1.0  0.0  0.0  1.0  0.0   \n",
       "2     0.5  0.975586  0.0  1.0  0.234512  0.333333  1.0  0.0  1.0  0.0  0.0   \n",
       "3     0.0  0.597168  0.0  0.0  0.536008  1.000000  1.0  0.0  1.0  0.0  0.0   \n",
       "4     0.0  0.963379  1.0  0.0  0.549349  0.333333  1.0  0.0  0.0  1.0  0.0   \n",
       "...   ...       ...  ...  ...       ...       ...  ...  ...  ...  ...  ...   \n",
       "5105  0.0  0.975586  1.0  0.0  0.132167  0.333333  1.0  0.0  1.0  0.0  0.0   \n",
       "5106  0.0  0.987793  0.0  0.0  0.323516  0.333333  1.0  0.0  0.0  1.0  0.0   \n",
       "5107  0.0  0.426270  0.0  0.0  0.128658  0.333333  1.0  0.0  0.0  1.0  0.0   \n",
       "5108  0.5  0.621582  0.0  0.0  0.513203  0.666667  1.0  0.0  1.0  0.0  0.0   \n",
       "5109  0.0  0.536133  0.0  0.0  0.139230  0.000000  1.0  0.0  0.0  0.0  0.0   \n",
       "\n",
       "       11  \n",
       "0     1.0  \n",
       "1     0.0  \n",
       "2     0.0  \n",
       "3     1.0  \n",
       "4     0.0  \n",
       "...   ...  \n",
       "5105  1.0  \n",
       "5106  1.0  \n",
       "5107  0.0  \n",
       "5108  0.0  \n",
       "5109  1.0  \n",
       "\n",
       "[5110 rows x 12 columns]"
      ]
     },
     "execution_count": 19,
     "metadata": {},
     "output_type": "execute_result"
    }
   ],
   "source": [
    "#pd.DataFrame(check)"
   ]
  },
  {
   "cell_type": "code",
   "execution_count": 5,
   "metadata": {},
   "outputs": [],
   "source": [
    "#Will need to scale the avg_glucose_level. \n",
    "#level = X['avg_glucose_level']\n",
    "#level_glu = np.array(level).reshape(-1,1)\n",
    "#scaler = MinMaxScaler()\n",
    "#avg_glucose_level = scaler.fit_transform(level_glu)\n",
    "#glucose_level_scale = pd.DataFrame(avg_glucose_level)\n",
    "#glucose_level_scale.columns = ['glucose_level_scaled']"
   ]
  },
  {
   "cell_type": "code",
   "execution_count": 6,
   "metadata": {},
   "outputs": [],
   "source": [
    "#Will need to scale the age.\n",
    "#level_age = X['age']\n",
    "#level_age_scale = np.array(level_age).reshape(-1,1)\n",
    "#scaler = MinMaxScaler()\n",
    "#age = scaler.fit_transform(level_age_scale)\n",
    "#age_scale = pd.DataFrame(age)\n",
    "#age_scale.columns = ['age_scaled']"
   ]
  },
  {
   "cell_type": "code",
   "execution_count": 8,
   "metadata": {},
   "outputs": [],
   "source": [
    "#X = pd.concat([X, glucose_level_scale,age_scale], axis = 1)"
   ]
  },
  {
   "cell_type": "code",
   "execution_count": 9,
   "metadata": {},
   "outputs": [],
   "source": [
    "#X.drop(['age','avg_glucose_level'], axis =1, inplace = True)"
   ]
  },
  {
   "cell_type": "code",
   "execution_count": null,
   "metadata": {},
   "outputs": [],
   "source": [
    "#"
   ]
  },
  {
   "cell_type": "markdown",
   "metadata": {},
   "source": [
    "### Model creation"
   ]
  },
  {
   "cell_type": "code",
   "execution_count": 7,
   "metadata": {},
   "outputs": [],
   "source": [
    "X_train, X_test, y_train, y_test = train_test_split(X,y, test_size = 0.2) #train/test split "
   ]
  },
  {
   "cell_type": "code",
   "execution_count": 8,
   "metadata": {},
   "outputs": [
    {
     "name": "stderr",
     "output_type": "stream",
     "text": [
      "C:\\Users\\MATILYA\\Anaconda3\\lib\\site-packages\\sklearn\\ensemble\\forest.py:245: FutureWarning: The default value of n_estimators will change from 10 in version 0.20 to 100 in 0.22.\n",
      "  \"10 in version 0.20 to 100 in 0.22.\", FutureWarning)\n",
      "C:\\Users\\MATILYA\\Anaconda3\\lib\\site-packages\\ipykernel_launcher.py:4: DataConversionWarning: A column-vector y was passed when a 1d array was expected. Please change the shape of y to (n_samples,), for example using ravel().\n",
      "  after removing the cwd from sys.path.\n"
     ]
    }
   ],
   "source": [
    "#Apply Random forest \n",
    "rf_model = RandomForestClassifier(random_state = 0)\n",
    "#X_train = scaler.fit_transform(X_train)\n",
    "rf_model.fit(X_train,y_train)\n",
    "\n",
    "y_train_rf_pred = rf_model.predict_proba(X_train)# keep probabilities for the positive outcome only\n",
    "ytest_rf_pred = rf_model.predict_proba(X_test)"
   ]
  },
  {
   "cell_type": "code",
   "execution_count": null,
   "metadata": {},
   "outputs": [],
   "source": []
  },
  {
   "cell_type": "code",
   "execution_count": null,
   "metadata": {},
   "outputs": [],
   "source": []
  },
  {
   "cell_type": "code",
   "execution_count": 9,
   "metadata": {},
   "outputs": [
    {
     "name": "stderr",
     "output_type": "stream",
     "text": [
      "C:\\Users\\MATILYA\\Anaconda3\\lib\\site-packages\\sklearn\\linear_model\\logistic.py:432: FutureWarning: Default solver will be changed to 'lbfgs' in 0.22. Specify a solver to silence this warning.\n",
      "  FutureWarning)\n",
      "C:\\Users\\MATILYA\\Anaconda3\\lib\\site-packages\\sklearn\\utils\\validation.py:724: DataConversionWarning: A column-vector y was passed when a 1d array was expected. Please change the shape of y to (n_samples, ), for example using ravel().\n",
      "  y = column_or_1d(y, warn=True)\n"
     ]
    }
   ],
   "source": [
    "#LogisticRegression\n",
    "#log_classifier=LogisticRegression()\n",
    "#log_classifier.fit(X_train, y_train)\n",
    "\n",
    "#ytrain_pred_log = log_classifier.predict_proba(X_train)\n",
    "#ytest_pred_log = log_classifier.predict_proba(X_test)"
   ]
  },
  {
   "cell_type": "code",
   "execution_count": null,
   "metadata": {},
   "outputs": [],
   "source": []
  },
  {
   "cell_type": "markdown",
   "metadata": {},
   "source": [
    "### Stream"
   ]
  },
  {
   "cell_type": "code",
   "execution_count": 10,
   "metadata": {},
   "outputs": [],
   "source": [
    "st.sidebar.header('Parameter selesction')\n",
    "\n",
    "def user_selection():\n",
    "    gender = st.sidebar.selectbox('Gender', ['Male','Female']) #Unfortunalty the data collected for this model only used binary selection\n",
    "    age = st.sidebar.number_input('Enter Age')\n",
    "    hypertension = st.sidebar.selectbox('Hypertension',[0,1])\n",
    "    heart_disease = st.sidebar.selectbox('Heart disease',[0,1])\n",
    "    glucose_level = st.sidebar.slider('Average Glucose Level',50,275,200) \n",
    "    smoking_status = st.sidebar.selectbox('Smoking status',['Unknown','Never smoked','Formerly smoked','Smokes'])\n",
    "    ever_married = st.sidebar.selectbox('Ever Married?',['Yes','No'])\n",
    "    work_type = st.sidebar.selectbox('Wrok type',['Private','Never worked','Self employed','Children']) #Not taking government into account \n",
    "    residance_type = st.sidebar.selectbox('Residence_type', ['Rural','Urban'])\n",
    "    \n",
    "    data = {'Gender':gender,\n",
    "            'Enter Age':age,\n",
    "            'Hypertension':hypertension,\n",
    "            'Heart disease':heart_disease,\n",
    "            'Average Glucose Level':glucose_level,\n",
    "            'Smoking status':smoking_status,\n",
    "            'Ever Married?':ever_married,\n",
    "            'Wrok type':work_type,\n",
    "            'Residence_type':residance_type}\n",
    "     \n",
    "    features = pd.DataFrame(data, index = [0])\n",
    "    return features\n",
    "    \n",
    "user_data = user_selection()"
   ]
  },
  {
   "cell_type": "code",
   "execution_count": 30,
   "metadata": {},
   "outputs": [
    {
     "data": {
      "text/html": [
       "<div>\n",
       "<style scoped>\n",
       "    .dataframe tbody tr th:only-of-type {\n",
       "        vertical-align: middle;\n",
       "    }\n",
       "\n",
       "    .dataframe tbody tr th {\n",
       "        vertical-align: top;\n",
       "    }\n",
       "\n",
       "    .dataframe thead th {\n",
       "        text-align: right;\n",
       "    }\n",
       "</style>\n",
       "<table border=\"1\" class=\"dataframe\">\n",
       "  <thead>\n",
       "    <tr style=\"text-align: right;\">\n",
       "      <th></th>\n",
       "      <th>Gender</th>\n",
       "      <th>Enter Age</th>\n",
       "      <th>Hypertension</th>\n",
       "      <th>Heart disease</th>\n",
       "      <th>Average Glucose Level</th>\n",
       "      <th>Smoking status</th>\n",
       "      <th>Ever Married?</th>\n",
       "      <th>Wrok type</th>\n",
       "      <th>Residence_type</th>\n",
       "    </tr>\n",
       "  </thead>\n",
       "  <tbody>\n",
       "    <tr>\n",
       "      <td>0</td>\n",
       "      <td>1</td>\n",
       "      <td>0.0</td>\n",
       "      <td>0</td>\n",
       "      <td>0</td>\n",
       "      <td>200</td>\n",
       "      <td>0</td>\n",
       "      <td>Yes</td>\n",
       "      <td>Private</td>\n",
       "      <td>Rural</td>\n",
       "    </tr>\n",
       "  </tbody>\n",
       "</table>\n",
       "</div>"
      ],
      "text/plain": [
       "  Gender  Enter Age  Hypertension  Heart disease  Average Glucose Level  \\\n",
       "0      1        0.0             0              0                    200   \n",
       "\n",
       "  Smoking status Ever Married? Wrok type Residence_type  \n",
       "0              0           Yes   Private          Rural  "
      ]
     },
     "execution_count": 30,
     "metadata": {},
     "output_type": "execute_result"
    }
   ],
   "source": [
    " user_data"
   ]
  },
  {
   "cell_type": "code",
   "execution_count": 11,
   "metadata": {},
   "outputs": [
    {
     "data": {
      "text/plain": [
       "'Unknown'"
      ]
     },
     "execution_count": 11,
     "metadata": {},
     "output_type": "execute_result"
    }
   ],
   "source": [
    "smoke_check = user_data['Smoking status'][0]\n",
    "#smoke_check"
   ]
  },
  {
   "cell_type": "code",
   "execution_count": 12,
   "metadata": {},
   "outputs": [],
   "source": [
    "X_pred = []\n",
    "work_type_Never_worked = []\n",
    "work_type_Private = [] \n",
    "work_type_Self_employed = []\n",
    "work_type_children = []\n",
    "\n",
    "def one_hot_cold(user_data):\n",
    "    user_array = np.array(user_data)\n",
    "    #Gender\n",
    "    if user_data['Gender'][0] == 'Male':\n",
    "        user_data['Gender'][0] = 1\n",
    "    else:\n",
    "        user_data['Gender'][0] = 0\n",
    "        \n",
    "    X_pred.append(user_data['Gender'][0])    \n",
    "    X_pred.append(user_data['Enter Age'][0]) \n",
    "    X_pred.append(user_array[0][2])\n",
    "    X_pred.append(user_array[0][3])\n",
    "    X_pred.append(user_array[0][4])\n",
    "    \n",
    "    if user_data['Smoking status'][0] == \"Unknown\":\n",
    "        user_data['Smoking status'][0] = 0\n",
    "    elif user_data['Smoking status'][0] == \"Never smoked\":\n",
    "        user_data['Smoking status'][0] = 1\n",
    "    elif user_data['Smoking status'][0] == \"Formerly smoked\":\n",
    "        user_data['Smoking status'][0] = 2        \n",
    "    elif user_data['Smoking status'][0] == \"Smokes\":\n",
    "        user_data['Smoking status'][0] = 3 \n",
    "    \n",
    "\n",
    "    X_pred.append(user_data['Smoking status'][0])\n",
    "    \n",
    "    \n",
    "    if user_data['Ever Married?'][0] == 'Yes':\n",
    "        user_data['Ever Married?'][0] =  1 \n",
    "    else:\n",
    "        user_data['Ever Married?'][0] =  0\n",
    "    X_pred.append(user_data['Ever Married?'][0])\n",
    "    \n",
    "    if user_data['Wrok type'][0] == 'Private':\n",
    "        work_type_Never_worked = 0\n",
    "        work_type_Private = 1 \n",
    "        work_type_Self_employed = 0 \n",
    "        work_type_children = 0 \n",
    "    elif user_data['Wrok type'][0] == 'Never worked': \n",
    "        work_type_Never_worked = 1\n",
    "        work_type_Private = 0 \n",
    "        work_type_Self_employed = 0 \n",
    "        work_type_children = 0       \n",
    "    elif user_data['Wrok type'][0] == 'Self employed': \n",
    "        work_type_Never_worked = 0\n",
    "        work_type_Private = 0 \n",
    "        work_type_Self_employed = 1 \n",
    "        work_type_children = 0 \n",
    "    elif user_data['Wrok type'][0] == 'Children': \n",
    "        work_type_Never_worked = 1\n",
    "        work_type_Private = 0 \n",
    "        work_type_Self_employed = 0 \n",
    "        work_type_children = 1\n",
    "   \n",
    "    X_pred.append(work_type_Never_worked)\n",
    "    X_pred.append(work_type_Private)\n",
    "    X_pred.append(work_type_Self_employed)              ,\n",
    "    X_pred.append(work_type_children)              ,\n",
    "              \n",
    "    \n",
    "        \n",
    "    if user_data['Residence_type'][0] == 'Urban':\n",
    "        user_data['Residence_type'][0] =  1 \n",
    "    else:\n",
    "        user_data['Residence_type'][0] =  0 \n",
    "    X_pred.append(user_data['Residence_type'][0])\n",
    "    \n",
    "    return X_pred "
   ]
  },
  {
   "cell_type": "code",
   "execution_count": 13,
   "metadata": {
    "scrolled": true
   },
   "outputs": [
    {
     "name": "stderr",
     "output_type": "stream",
     "text": [
      "C:\\Users\\MATILYA\\Anaconda3\\lib\\site-packages\\ipykernel_launcher.py:11: SettingWithCopyWarning: \n",
      "A value is trying to be set on a copy of a slice from a DataFrame\n",
      "\n",
      "See the caveats in the documentation: http://pandas.pydata.org/pandas-docs/stable/user_guide/indexing.html#returning-a-view-versus-a-copy\n",
      "  # This is added back by InteractiveShellApp.init_path()\n",
      "C:\\Users\\MATILYA\\Anaconda3\\lib\\site-packages\\ipykernel_launcher.py:22: SettingWithCopyWarning: \n",
      "A value is trying to be set on a copy of a slice from a DataFrame\n",
      "\n",
      "See the caveats in the documentation: http://pandas.pydata.org/pandas-docs/stable/user_guide/indexing.html#returning-a-view-versus-a-copy\n",
      "C:\\Users\\MATILYA\\Anaconda3\\lib\\site-packages\\ipykernel_launcher.py:35: SettingWithCopyWarning: \n",
      "A value is trying to be set on a copy of a slice from a DataFrame\n",
      "\n",
      "See the caveats in the documentation: http://pandas.pydata.org/pandas-docs/stable/user_guide/indexing.html#returning-a-view-versus-a-copy\n",
      "C:\\Users\\MATILYA\\Anaconda3\\lib\\site-packages\\ipykernel_launcher.py:71: SettingWithCopyWarning: \n",
      "A value is trying to be set on a copy of a slice from a DataFrame\n",
      "\n",
      "See the caveats in the documentation: http://pandas.pydata.org/pandas-docs/stable/user_guide/indexing.html#returning-a-view-versus-a-copy\n"
     ]
    },
    {
     "data": {
      "text/plain": [
       "[1, 0.0, 0, 0, 200, 0, 1, 0, 1, 0, 0, 0]"
      ]
     },
     "execution_count": 13,
     "metadata": {},
     "output_type": "execute_result"
    }
   ],
   "source": [
    "check = one_hot_cold(user_data)\n",
    "#check"
   ]
  },
  {
   "cell_type": "code",
   "execution_count": null,
   "metadata": {},
   "outputs": [],
   "source": [
    "#st.dataframe(check)"
   ]
  },
  {
   "cell_type": "markdown",
   "metadata": {},
   "source": [
    "#age - add the item to the list then rescale. "
   ]
  },
  {
   "cell_type": "code",
   "execution_count": 99,
   "metadata": {},
   "outputs": [
    {
     "data": {
      "text/plain": [
       "Index(['gender', 'age', 'hypertension', 'heart_disease', 'avg_glucose_level',\n",
       "       'smoking_status', 'ever_married_Yes', 'work_type_Never_worked',\n",
       "       'work_type_Private', 'work_type_Self-employed', 'work_type_children',\n",
       "       'Residence_type_Urban'],\n",
       "      dtype='object')"
      ]
     },
     "execution_count": 99,
     "metadata": {},
     "output_type": "execute_result"
    }
   ],
   "source": [
    "#X.columns"
   ]
  },
  {
   "cell_type": "code",
   "execution_count": 104,
   "metadata": {},
   "outputs": [
    {
     "data": {
      "text/plain": [
       "[0, 0.0, 0, 0, 200, 0, 0, 0, 1, 0, 0, 0]"
      ]
     },
     "execution_count": 104,
     "metadata": {},
     "output_type": "execute_result"
    }
   ],
   "source": [
    "#checkouput"
   ]
  },
  {
   "cell_type": "code",
   "execution_count": 14,
   "metadata": {},
   "outputs": [],
   "source": [
    "pred = np.array(check).reshape(1, -1)\n",
    "\n",
    "ouput = rf_model.predict(pred)"
   ]
  },
  {
   "cell_type": "code",
   "execution_count": 15,
   "metadata": {},
   "outputs": [
    {
     "data": {
      "text/plain": [
       "0"
      ]
     },
     "execution_count": 15,
     "metadata": {},
     "output_type": "execute_result"
    }
   ],
   "source": [
    "ans = ouput[0]\n",
    "ans"
   ]
  },
  {
   "cell_type": "code",
   "execution_count": null,
   "metadata": {},
   "outputs": [],
   "source": [
    "#verdict = []\n",
    "#if ans == 1:\n",
    "#    verdict = \"Threat\"\n",
    "#else: \n",
    "#    verdict = \"No threat\"    \n",
    "    \n"
   ]
  },
  {
   "cell_type": "code",
   "execution_count": null,
   "metadata": {},
   "outputs": [],
   "source": []
  },
  {
   "cell_type": "code",
   "execution_count": null,
   "metadata": {},
   "outputs": [],
   "source": []
  }
 ],
 "metadata": {
  "kernelspec": {
   "display_name": "Python 3",
   "language": "python",
   "name": "python3"
  },
  "language_info": {
   "codemirror_mode": {
    "name": "ipython",
    "version": 3
   },
   "file_extension": ".py",
   "mimetype": "text/x-python",
   "name": "python",
   "nbconvert_exporter": "python",
   "pygments_lexer": "ipython3",
   "version": "3.7.4"
  }
 },
 "nbformat": 4,
 "nbformat_minor": 2
}
